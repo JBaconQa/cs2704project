{
  "nbformat": 4,
  "nbformat_minor": 0,
  "metadata": {
    "colab": {
      "provenance": []
    },
    "kernelspec": {
      "name": "python3",
      "display_name": "Python 3"
    },
    "language_info": {
      "name": "python"
    }
  },
  "cells": [
    {
      "cell_type": "code",
      "execution_count": null,
      "metadata": {
        "id": "Jp3K26ge76pQ"
      },
      "outputs": [],
      "source": [
        "from google.colab import drive\n",
        "drive.mount('/content/drive')"
      ]
    },
    {
      "cell_type": "code",
      "source": [
        "import matplotlib.pyplot as plt"
      ],
      "metadata": {
        "id": "Lb7q1xh0NPja"
      },
      "execution_count": null,
      "outputs": []
    },
    {
      "cell_type": "code",
      "source": [
        "import pandas as pd\n",
        "dfOD = pd.read_excel('/content/drive/MyDrive/cs2704project-main/OlympicsPerformance/athlete_events.xlsx',)"
      ],
      "metadata": {
        "id": "MFSQ2CRLFic9"
      },
      "execution_count": null,
      "outputs": []
    },
    {
      "cell_type": "code",
      "source": [
        "dfCD = pd.read_excel('/content/drive/MyDrive/countrydata.xlsx', parse_dates = True)"
      ],
      "metadata": {
        "id": "0C-Ak5OtF1S3"
      },
      "execution_count": null,
      "outputs": []
    },
    {
      "cell_type": "code",
      "source": [
        "dfOD['Year'] = dfOD['Year'].astype(int)\n",
        "dfOD.head()"
      ],
      "metadata": {
        "id": "A3Gw-R1wIDj9"
      },
      "execution_count": null,
      "outputs": []
    },
    {
      "cell_type": "code",
      "source": [
        "dfCD.head()"
      ],
      "metadata": {
        "id": "plqknm_UIP8F"
      },
      "execution_count": null,
      "outputs": []
    },
    {
      "cell_type": "code",
      "source": [
        "ODcountry = dfOD[\"Team\"]\n",
        "ODcountry.head()"
      ],
      "metadata": {
        "id": "oPIUfOtbKPFr"
      },
      "execution_count": null,
      "outputs": []
    },
    {
      "cell_type": "code",
      "source": [
        "type(dfOD[\"Team\"])"
      ],
      "metadata": {
        "id": "OE-ZHaLiLdha"
      },
      "execution_count": null,
      "outputs": []
    },
    {
      "cell_type": "code",
      "source": [
        "dfOD[\"Team\"].shape"
      ],
      "metadata": {
        "id": "fH5TlPTlLjhX"
      },
      "execution_count": null,
      "outputs": []
    },
    {
      "cell_type": "code",
      "source": [
        "Years = dfOD[\"Year\"]\n",
        "Years = Years.sort_values()\n",
        "Years = Years.drop_duplicates()\n",
        "Years = Years.reset_index(drop=True)\n",
        "display(Years)"
      ],
      "metadata": {
        "id": "6iDmmj7BjfBn"
      },
      "execution_count": null,
      "outputs": []
    },
    {
      "cell_type": "code",
      "source": [
        "dfOD['Medal'] = dfOD['Medal'].replace(['Bronze'], 1)\n",
        "dfOD['Medal'] = dfOD['Medal'].replace(['Silver'], 1)\n",
        "dfOD['Medal'] = dfOD['Medal'].replace(['Gold'], 1)\n",
        "ODcountry_year = dfOD.iloc[:, [6,9,14]]\n",
        "\n",
        "ODcountry_year.head()"
      ],
      "metadata": {
        "id": "tNBUnUNhLqS3"
      },
      "execution_count": null,
      "outputs": []
    },
    {
      "cell_type": "code",
      "source": [
        "TeamUSA = ODcountry_year.loc[dfOD[\"Team\"] == \"United States\"]\n",
        "TeamUSA = TeamUSA.loc[TeamUSA['Year'] > 1959]\n",
        "TeamUSA = TeamUSA.reset_index(drop=True)\n",
        "\n",
        "display(TeamUSA)"
      ],
      "metadata": {
        "id": "VhdVt-K0Vcdb"
      },
      "execution_count": null,
      "outputs": []
    },
    {
      "cell_type": "code",
      "source": [
        "TeamUSAbyYear = TeamUSA.groupby(by=[\"Year\"]).sum()\n",
        "display(TeamUSAbyYear)"
      ],
      "metadata": {
        "id": "e11AdCtEiNlb"
      },
      "execution_count": null,
      "outputs": []
    },
    {
      "cell_type": "code",
      "source": [
        "TeamCHN = ODcountry_year.loc[dfOD[\"Team\"] == \"China\"]\n",
        "TeamCHN = TeamCHN.sort_values([\"Year\"])\n",
        "TeamCHN = TeamCHN.reset_index(drop=True)\n",
        "\n",
        "display(TeamCHN)"
      ],
      "metadata": {
        "id": "-PFxEx5yuX-Q"
      },
      "execution_count": null,
      "outputs": []
    },
    {
      "cell_type": "code",
      "source": [
        "TeamCHNbyYear = TeamCHN.groupby(by=[\"Year\"]).sum()\n",
        "display(TeamCHNbyYear)"
      ],
      "metadata": {
        "id": "vTPdr0P5ufaO"
      },
      "execution_count": null,
      "outputs": []
    },
    {
      "cell_type": "code",
      "source": [
        "TeamCAN = ODcountry_year.loc[dfOD[\"Team\"] == \"Canada\"]\n",
        "TeamCAN = TeamCAN.sort_values([\"Year\"])\n",
        "TeamCAN = TeamCAN.reset_index(drop=True)\n",
        "\n",
        "display(TeamCAN)"
      ],
      "metadata": {
        "id": "zLbN5NMryw4R"
      },
      "execution_count": null,
      "outputs": []
    },
    {
      "cell_type": "code",
      "source": [
        "\n",
        "TeamCANbyYear = TeamCAN.groupby(by=[\"Year\"]).sum()\n",
        "display(TeamCANbyYear)"
      ],
      "metadata": {
        "id": "vXOb59xIy5L1"
      },
      "execution_count": null,
      "outputs": []
    },
    {
      "cell_type": "code",
      "source": [
        "ax = TeamUSAbyYear.plot(y='Medal')\n",
        "TeamCHNbyYear.plot(ax=ax, y='Medal')\n",
        "TeamCANbyYear.plot(ax=ax, y='Medal')\n",
        "\n",
        "plt.show()"
      ],
      "metadata": {
        "id": "-lFLANXCxpYm"
      },
      "execution_count": null,
      "outputs": []
    },
    {
      "cell_type": "code",
      "source": [
        "CDcountry = dfCD[\"Country Name\"]\n",
        "display(CDcountry)"
      ],
      "metadata": {
        "id": "yfckklRsyXg9"
      },
      "execution_count": null,
      "outputs": []
    },
    {
      "cell_type": "code",
      "source": [
        "CDyears = dfCD.iloc[:,5:68]\n",
        "CDyearsTransposed = CDyears.T\n",
        "#CDyearsTransposed.columns = [\"Year\"]\n",
        "CDyearsTransposed = CDyearsTransposed.drop([1961,1962,1963,1965,1966,1967,1969,1970,1971,1973,1974,1975,1977,1978,1979,1981,1982,1983,1985,1986,1987,1989,1990,1991,1993,1995,1997,1999,2001,2003,2005,2007,2009,2011,2013,2015,2017,2018,2019,2020,2021,2022], axis=0)\n",
        "CDyearsTransposed"
      ],
      "metadata": {
        "id": "sMyfrJtl7yBt"
      },
      "execution_count": null,
      "outputs": []
    },
    {
      "cell_type": "code",
      "source": [
        "CDyearsTransposed.plot()\n",
        "\n",
        "plt.show()"
      ],
      "metadata": {
        "id": "JT-LU18P-1JL"
      },
      "execution_count": null,
      "outputs": []
    },
    {
      "cell_type": "code",
      "source": [
        "chinaGDP = dfCD.loc[dfCD['Country Name'] == \"China\"]\n",
        "\n",
        "chinaGDPT = chinaGDP.T\n",
        "\n",
        "chinaGDPT = chinaGDPT.drop(index=['Year', 'Country Code', 'Indicator Name', 'Indicator Code'])\n",
        "\n",
        "chinaGDPT.columns = chinaGDPT.iloc[0]\n",
        "\n",
        "chinaGDPT = chinaGDPT.drop(index=['Country Name'])\n",
        "\n",
        "chinaGDPT = chinaGDPT.drop([1961,1962,1963,1965,1966,1967,1969,1970,1971,1973,1974,1975,1977,1978,1979,1981,1982,1983,1985,1986,1987,1989,1990,1991,1993,1995,1997,1999,2001,2003,2005,2007,2009,2011,2013,2015,2017,2018,2019,2020,2021,2022], axis=0)\n",
        "\n",
        "display(chinaGDPT)"
      ],
      "metadata": {
        "id": "ftCEmjpyA6i1"
      },
      "execution_count": null,
      "outputs": []
    },
    {
      "cell_type": "code",
      "source": [
        "usaGDP = dfCD.loc[dfCD['Country Name'] == \"United States\"]\n",
        "\n",
        "usaGDPT = usaGDP.T\n",
        "\n",
        "usaGDPT = usaGDPT.drop(index=['Year', 'Country Code', 'Indicator Name', 'Indicator Code'])\n",
        "\n",
        "usaGDPT.columns = usaGDPT.iloc[0]\n",
        "\n",
        "usaGDPT = usaGDPT.drop(index=['Country Name'])\n",
        "\n",
        "usaGDPT = usaGDPT.drop([1961,1962,1963,1965,1966,1967,1969,1970,1971,1973,1974,1975,1977,1978,1979,1981,1982,1983,1985,1986,1987,1989,1990,1991,1993,1995,1997,1999,2001,2003,2005,2007,2009,2011,2013,2015,2017,2018,2019,2020,2021,2022], axis=0)\n",
        "\n",
        "display(usaGDPT)"
      ],
      "metadata": {
        "id": "5CFRcnCRD-D-"
      },
      "execution_count": null,
      "outputs": []
    },
    {
      "cell_type": "code",
      "source": [
        "canGDP = dfCD.loc[dfCD['Country Name'] == \"Canada\"]\n",
        "\n",
        "canGDPT = canGDP.T\n",
        "\n",
        "canGDPT = canGDPT.drop(index=['Year', 'Country Code', 'Indicator Name', 'Indicator Code'])\n",
        "\n",
        "canGDPT.columns = canGDPT.iloc[0]\n",
        "\n",
        "canGDPT = canGDPT.drop(index=['Country Name'])\n",
        "\n",
        "canGDPT = canGDPT.drop([1961,1962,1963,1965,1966,1967,1969,1970,1971,1973,1974,1975,1977,1978,1979,1981,1982,1983,1985,1986,1987,1989,1990,1991,1993,1995,1997,1999,2001,2003,2005,2007,2009,2011,2013,2015,2017,2018,2019,2020,2021,2022], axis=0)\n",
        "\n",
        "display(canGDPT)"
      ],
      "metadata": {
        "id": "ZJMvcx5HETSd"
      },
      "execution_count": null,
      "outputs": []
    },
    {
      "cell_type": "code",
      "source": [
        "\n",
        "ax = chinaGDPT.plot()\n",
        "usaGDPT.plot(ax=ax)\n",
        "canGDPT.plot(ax=ax)\n",
        "\n",
        "plt.show()"
      ],
      "metadata": {
        "id": "8naz6ookB7RQ"
      },
      "execution_count": null,
      "outputs": []
    },
    {
      "cell_type": "code",
      "source": [
        "TeamsbyYear = pd.concat([TeamCHNbyYear, TeamUSAbyYear, TeamCANbyYear], axis=1)\n",
        "TeamsbyYear = TeamsbyYear.sort_values([\"Year\"])\n",
        "display(TeamsbyYear)"
      ],
      "metadata": {
        "id": "eaiQ9KWsHu2A"
      },
      "execution_count": null,
      "outputs": []
    },
    {
      "cell_type": "code",
      "source": [
        "\n",
        "\n",
        "ax = TeamUSAbyYear.plot(y='Medal')\n",
        "TeamCHNbyYear.plot(ax=ax, y='Medal')\n",
        "TeamCANbyYear.plot(ax=ax, y='Medal')\n",
        "chinaGDPT.plot(ax=ax)\n",
        "usaGDPT.plot(ax=ax)\n",
        "canGDPT.plot(ax=ax)\n",
        "\n",
        "plt.show()"
      ],
      "metadata": {
        "id": "pNBYCc37EfsD"
      },
      "execution_count": null,
      "outputs": []
    },
    {
      "cell_type": "code",
      "source": [
        "Max_Scale = TeamsbyYear.copy()\n",
        "for column in Max_Scale.columns:\n",
        "    Max_Scale[column] = Max_Scale[column]  / Max_Scale[column].abs().max()\n",
        "\n",
        "display(Max_Scale)"
      ],
      "metadata": {
        "id": "Z3FOvpKzNWuV"
      },
      "execution_count": null,
      "outputs": []
    },
    {
      "cell_type": "code",
      "source": [
        "TeamsbyYear.plot(y = 'Medal')\n",
        "Max_Scale.plot(y = \"Medal\")"
      ],
      "metadata": {
        "id": "b50OXpTnNz7M"
      },
      "execution_count": null,
      "outputs": []
    },
    {
      "cell_type": "code",
      "source": [
        "GDPbyYear = pd.concat([chinaGDPT, usaGDPT, canGDPT], axis=1)\n",
        "display(GDPbyYear)"
      ],
      "metadata": {
        "id": "3f6O5dfsSHDz"
      },
      "execution_count": null,
      "outputs": []
    },
    {
      "cell_type": "code",
      "source": [
        "Max_Scale_GDP = GDPbyYear.copy()\n",
        "for column in Max_Scale_GDP.columns:\n",
        "    Max_Scale_GDP[column] = Max_Scale_GDP[column]  / Max_Scale_GDP[column].abs().max()\n",
        "\n",
        "display(Max_Scale_GDP)"
      ],
      "metadata": {
        "id": "aEr8mlW5SRv1"
      },
      "execution_count": null,
      "outputs": []
    },
    {
      "cell_type": "code",
      "source": [
        "GDPbyYear.plot()\n",
        "Max_Scale_GDP.plot()"
      ],
      "metadata": {
        "id": "t8NaCpvqSbsp"
      },
      "execution_count": null,
      "outputs": []
    },
    {
      "cell_type": "code",
      "source": [
        "Max_Scale.plot.bar()\n",
        "Max_Scale_GDP.plot.bar()"
      ],
      "metadata": {
        "id": "Vg98XauKSsbI"
      },
      "execution_count": null,
      "outputs": []
    },
    {
      "cell_type": "code",
      "source": [
        "CombinedData = pd.concat([TeamCHNbyYear, TeamUSAbyYear, TeamCANbyYear, chinaGDPT, usaGDPT, canGDPT], axis=1)\n",
        "CombinedData = CombinedData.sort_index()\n",
        "CombinedData['Medal'] = CombinedData['Medal'].fillna(0)\n",
        "display(CombinedData)"
      ],
      "metadata": {
        "id": "caPEeaBAUO71"
      },
      "execution_count": null,
      "outputs": []
    },
    {
      "cell_type": "code",
      "source": [
        "Max_Scale_Data = CombinedData.copy()\n",
        "for column in Max_Scale_Data.columns:\n",
        "    Max_Scale_Data[column] = Max_Scale_Data[column]  / Max_Scale_Data[column].abs().max()\n",
        "\n",
        "display(Max_Scale_Data)"
      ],
      "metadata": {
        "id": "na4OuCrSV57W"
      },
      "execution_count": null,
      "outputs": []
    },
    {
      "cell_type": "code",
      "source": [
        "Max_Scale_Data.plot()\n",
        "Max_Scale_Data.plot.bar()"
      ],
      "metadata": {
        "id": "3VwwJZFiYw60"
      },
      "execution_count": null,
      "outputs": []
    },
    {
      "cell_type": "code",
      "source": [
        "import numpy as np\n",
        "from scipy.interpolate import make_interp_spline\n",
        "\n",
        "y = np.array(usaGDPT['United States'])\n",
        "x = np.array(Years)\n",
        "X_Y_Spline = make_interp_spline(x, y)\n",
        "\n",
        "X_ = np.linspace(x.min(), x.max(), 500)\n",
        "Y_ = X_Y_Spline(X_)\n",
        "\n",
        "plt.plot(X_, Y_)\n",
        "plt.title(\"GDP Over Time\")\n",
        "plt.xlabel(\"Years\")\n",
        "plt.ylabel(\"GDP\")\n",
        "plt.show()"
      ],
      "metadata": {
        "id": "70AT0OjMfuv0"
      },
      "execution_count": null,
      "outputs": []
    },
    {
      "cell_type": "code",
      "source": [
        "y = np.array(TeamUSAbyYear['Medal'])\n",
        "x = np.array(Years)\n",
        "X_Y_Spline = make_interp_spline(x, y)\n",
        "\n",
        "X_ = np.linspace(x.min(), x.max(), 500)\n",
        "Y_ = X_Y_Spline(X_)\n",
        "\n",
        "plt.plot(X_, Y_)\n",
        "plt.title(\"Medals Over Time\")\n",
        "plt.xlabel(\"Years\")\n",
        "plt.ylabel(\"Medals\")\n",
        "plt.show()"
      ],
      "metadata": {
        "id": "4Omnx1RKmfWk"
      },
      "execution_count": null,
      "outputs": []
    },
    {
      "cell_type": "code",
      "source": [
        "usa = pd.concat([TeamUSAbyYear, usaGDPT], axis=1)\n",
        "usa = usa.sort_index()\n",
        "display(usa)"
      ],
      "metadata": {
        "id": "-xJBz7YNnVmx"
      },
      "execution_count": null,
      "outputs": []
    },
    {
      "cell_type": "code",
      "source": [
        "Max_Scale_USA = usa.copy()\n",
        "for column in Max_Scale_USA.columns:\n",
        "    Max_Scale_USA[column] = Max_Scale_USA[column]  / Max_Scale_USA[column].abs().max()\n",
        "\n",
        "display(Max_Scale_USA)"
      ],
      "metadata": {
        "id": "jY_HyvP2gBq3"
      },
      "execution_count": null,
      "outputs": []
    },
    {
      "cell_type": "code",
      "source": [
        "Max_Scale_USA.plot()\n",
        "Max_Scale_USA.plot.bar()"
      ],
      "metadata": {
        "id": "8um1LgzrgGu0"
      },
      "execution_count": null,
      "outputs": []
    },
    {
      "cell_type": "code",
      "source": [
        "y1 = np.array(Max_Scale_USA['Medal'])\n",
        "y2 = np.array(Max_Scale_USA['United States'])\n",
        "x = np.array(Years)\n",
        "X_Y_Spline1 = make_interp_spline(x, y1)\n",
        "X_Y_Spline2 = make_interp_spline(x, y2)\n",
        "\n",
        "X_ = np.linspace(x.min(), x.max(), 500)\n",
        "Y_1 = X_Y_Spline1(X_)\n",
        "Y_2 = X_Y_Spline2(X_)\n",
        "\n",
        "plt.plot(X_, Y_1)\n",
        "plt.plot(X_, Y_2)\n",
        "plt.title(\"Comparison Over Time\")\n",
        "plt.xlabel(\"Years\")\n",
        "plt.show()"
      ],
      "metadata": {
        "id": "82lkVsZ7pRsq"
      },
      "execution_count": null,
      "outputs": []
    },
    {
      "cell_type": "code",
      "source": [
        "can = pd.concat([TeamCANbyYear, canGDPT], axis=1)\n",
        "can = can.sort_index()\n",
        "display(can)"
      ],
      "metadata": {
        "id": "FMnYMCWjpfEO"
      },
      "execution_count": null,
      "outputs": []
    },
    {
      "cell_type": "code",
      "source": [
        "Max_Scale_CAN = can.copy()\n",
        "for column in Max_Scale_CAN.columns:\n",
        "    Max_Scale_CAN[column] = Max_Scale_CAN[column]  / Max_Scale_CAN[column].abs().max()\n",
        "\n",
        "display(Max_Scale_CAN)"
      ],
      "metadata": {
        "id": "Ue535donpm6-"
      },
      "execution_count": null,
      "outputs": []
    },
    {
      "cell_type": "code",
      "source": [
        "Max_Scale_CAN.plot()\n",
        "Max_Scale_CAN.plot.bar()"
      ],
      "metadata": {
        "id": "JwuvyL8Spto1"
      },
      "execution_count": null,
      "outputs": []
    },
    {
      "cell_type": "code",
      "source": [
        "y1 = np.array(Max_Scale_CAN['Medal'])\n",
        "y2 = np.array(Max_Scale_CAN['Canada'])\n",
        "x = np.array(Years)\n",
        "X_Y_Spline1 = make_interp_spline(x, y1)\n",
        "X_Y_Spline2 = make_interp_spline(x, y2)\n",
        "\n",
        "X_ = np.linspace(x.min(), x.max(), 500)\n",
        "Y_1 = X_Y_Spline1(X_)\n",
        "Y_2 = X_Y_Spline2(X_)\n",
        "\n",
        "plt.plot(X_, Y_1)\n",
        "plt.plot(X_, Y_2)\n",
        "plt.title(\"Comparison Over Time\")\n",
        "plt.xlabel(\"Years\")\n",
        "plt.show()"
      ],
      "metadata": {
        "id": "cuOZBSTgp1yy"
      },
      "execution_count": null,
      "outputs": []
    },
    {
      "cell_type": "code",
      "source": [
        "chn = pd.concat([TeamCHNbyYear, chinaGDPT], axis=1)\n",
        "chn = chn.sort_index()\n",
        "chn['Medal'] = chn['Medal'].fillna(0)\n",
        "display(chn)"
      ],
      "metadata": {
        "id": "mGZ34ZB_ERtg"
      },
      "execution_count": null,
      "outputs": []
    },
    {
      "cell_type": "code",
      "source": [
        "Max_Scale_CHN = chn.copy()\n",
        "for column in Max_Scale_CHN.columns:\n",
        "    Max_Scale_CHN[column] = Max_Scale_CHN[column]  / Max_Scale_CHN[column].abs().max()\n",
        "\n",
        "display(Max_Scale_CHN)"
      ],
      "metadata": {
        "id": "TT5b4Ma-EsLT"
      },
      "execution_count": null,
      "outputs": []
    },
    {
      "cell_type": "code",
      "source": [
        "y1 = np.array(Max_Scale_CHN['Medal'])\n",
        "y2 = np.array(Max_Scale_CHN['China'])\n",
        "x = np.array(Years)\n",
        "X_Y_Spline1 = make_interp_spline(x, y1)\n",
        "X_Y_Spline2 = make_interp_spline(x, y2)\n",
        "\n",
        "X_ = np.linspace(x.min(), x.max(), 500)\n",
        "Y_1 = X_Y_Spline1(X_)\n",
        "Y_2 = X_Y_Spline2(X_)\n",
        "\n",
        "plt.plot(X_, Y_1)\n",
        "plt.plot(X_, Y_2)\n",
        "plt.title(\"Comparison Over Time\")\n",
        "plt.xlabel(\"Years\")\n",
        "plt.show()"
      ],
      "metadata": {
        "id": "gChURfxIEyzr"
      },
      "execution_count": null,
      "outputs": []
    },
    {
      "cell_type": "code",
      "source": [
        "Teamkor = ODcountry_year.loc[dfOD[\"Team\"] == \"South Korea\"]\n",
        "Teamkor = Teamkor.loc[Teamkor['Year'] > 1959]\n",
        "Teamkor = Teamkor.reset_index(drop=True)\n",
        "\n",
        "display(Teamkor)\n",
        "\n",
        "TeamkorbyYear = Teamkor.groupby(by=[\"Year\"]).sum()\n",
        "display(TeamkorbyYear)\n",
        "\n",
        "KoreaGDP = dfCD.loc[dfCD['Country Name'] == \"Korea, Rep.\"]\n",
        "\n",
        "KoreaGDPT = KoreaGDP.T\n",
        "\n",
        "KoreaGDPT = KoreaGDPT.drop(index=['Year', 'Country Code', 'Indicator Name', 'Indicator Code'])\n",
        "\n",
        "KoreaGDPT.columns = KoreaGDPT.iloc[0]\n",
        "\n",
        "KoreaGDPT = KoreaGDPT.drop(index=['Country Name'])\n",
        "\n",
        "KoreaGDPT = KoreaGDPT.drop([1961,1962,1963,1965,1966,1967,1969,1970,1971,1973,1974,1975,1977,1978,1979,1981,1982,1983,1985,1986,1987,1989,1990,1991,1993,1995,1997,1999,2001,2003,2005,2007,2009,2011,2013,2015,2017,2018,2019,2020,2021,2022], axis=0)\n",
        "\n",
        "display(KoreaGDPT)\n",
        "\n",
        "sk = pd.concat([TeamkorbyYear, KoreaGDPT], axis=1)\n",
        "sk = sk.sort_index()\n",
        "display(sk)\n",
        "\n",
        "Max_Scale_SK = sk.copy()\n",
        "for column in Max_Scale_SK.columns:\n",
        "    Max_Scale_SK[column] = Max_Scale_SK[column]  / Max_Scale_SK[column].abs().max()\n",
        "\n",
        "display(Max_Scale_SK)"
      ],
      "metadata": {
        "id": "g7WXWYNCrF-1"
      },
      "execution_count": null,
      "outputs": []
    },
    {
      "cell_type": "code",
      "source": [
        "Max_Scale_SK.plot()\n",
        "Max_Scale_SK.plot.bar()"
      ],
      "metadata": {
        "id": "lk-W83rGtFZE"
      },
      "execution_count": null,
      "outputs": []
    },
    {
      "cell_type": "code",
      "source": [
        "y1 = np.array(Max_Scale_SK['Medal'])\n",
        "y2 = np.array(Max_Scale_SK['Korea, Rep.'])\n",
        "x = np.array(Years)\n",
        "X_Y_Spline1 = make_interp_spline(x, y1)\n",
        "X_Y_Spline2 = make_interp_spline(x, y2)\n",
        "\n",
        "X_ = np.linspace(x.min(), x.max(), 500)\n",
        "Y_1 = X_Y_Spline1(X_)\n",
        "Y_2 = X_Y_Spline2(X_)\n",
        "\n",
        "plt.plot(X_, Y_1)\n",
        "plt.plot(X_, Y_2)\n",
        "plt.title(\"Comparison Over Time\")\n",
        "plt.xlabel(\"Years\")\n",
        "plt.show()"
      ],
      "metadata": {
        "id": "e1o72YzitII7"
      },
      "execution_count": null,
      "outputs": []
    },
    {
      "cell_type": "code",
      "source": [
        "y1 = np.array(Max_Scale_Data['Medal'])\n",
        "y2 = np.array(Max_Scale_Data['United States'])\n",
        "y3 = np.array(Max_Scale_Data['China'])\n",
        "y4 = np.array(Max_Scale_Data['Canada'])\n",
        "x = np.array(Years)\n",
        "X_Y_Spline1 = make_interp_spline(x, y1)\n",
        "X_Y_Spline2 = make_interp_spline(x, y2)\n",
        "X_Y_Spline3 = make_interp_spline(x, y3)\n",
        "X_Y_Spline4 = make_interp_spline(x, y4)\n",
        "\n",
        "\n",
        "X_ = np.linspace(x.min(), x.max(), 500)\n",
        "Y_1 = X_Y_Spline1(X_)\n",
        "Y_2 = X_Y_Spline2(X_)\n",
        "Y_3 = X_Y_Spline3(X_)\n",
        "Y_4 = X_Y_Spline4(X_)\n",
        "\n",
        "plt.plot(X_, Y_1)\n",
        "plt.plot(X_, Y_2)\n",
        "plt.plot(X_, Y_4)\n",
        "plt.plot(X_, Y_3)\n",
        "plt.title(\"Comparison Over Time\")\n",
        "plt.xlabel(\"Years\")\n",
        "plt.show()\n",
        "\n"
      ],
      "metadata": {
        "id": "arL2BvqP27YO"
      },
      "execution_count": null,
      "outputs": []
    }
  ]
}